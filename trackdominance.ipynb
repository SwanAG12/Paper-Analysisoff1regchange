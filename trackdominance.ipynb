!pip install fastf1
!pip install seaborn
!pip install plotly
import fastf1 as ff1
from fastf1 import plotting
from matplotlib import pyplot as plt
from matplotlib.pyplot import figure
from matplotlib.collections import LineCollection
from matplotlib import cm
import numpy as np
import pandas as pd
plotting.setup_mpl()
driver01 = 'BOT'
driver02 = 'VET'
session_event = ff1.get_session(2019, 5, 'Q')
session_event.load()
drivers = [driver01, driver02]
compare_drivers = session_event.laps[session_event.laps['Driver'].isin(drivers)]
compare_drivers
fastest_lap_driver01 = session_event.laps.pick_driver(driver01).pick_fastest()
fastest_lap_driver02 = session_event.laps.pick_driver(driver02).pick_fastest()
telemetry_driver01 = fastest_lap_driver01.get_telemetry().add_distance()
telemetry_driver02 = fastest_lap_driver02.get_telemetry().add_distance()
telemetry_driver01['Driver'] = driver01
telemetry_driver02['Driver'] = driver02
telemetry_driver01_df = pd.DataFrame(telemetry_driver01)
telemetry_driver02_df = pd.DataFrame(telemetry_driver02)
telemetry_drivers = pd.concat([telemetry_driver01_df, telemetry_driver02_df], ignore_index=True)
num_minisectors = 7*3
total_distance = total_distance = max(telemetry_drivers['Distance'])
minisector_length = total_distance / num_minisectors
minisectors = [0]
for i in range(0, (num_minisectors - 1)):
    minisectors.append(minisector_length * (i + 1))
telemetry_drivers['Minisector'] = telemetry_drivers['Distance'].apply(
    lambda dist: (
        int((dist // minisector_length) + 1)
    )
)
average_speed = telemetry_drivers.groupby(['Minisector', 'Driver'])['Speed'].mean().reset_index()
average_speed
fastest_driver = average_speed.loc[average_speed.groupby(['Minisector'])['Speed'].idxmax()]
fastest_driver = fastest_driver[['Minisector', 'Driver']].rename(columns={'Driver': 'Fastest_driver'})
fastest_driver
telemetry_drivers = telemetry_drivers.merge(fastest_driver, on=['Minisector'])
telemetry_drivers = telemetry_drivers.sort_values(by=['Distance'])
telemetry_drivers.loc[telemetry_drivers['Fastest_driver'] == driver01, 'Fastest_driver_int'] = 1
telemetry_drivers.loc[telemetry_drivers['Fastest_driver'] == driver02, 'Fastest_driver_int'] = 2
x = np.array(telemetry_drivers['X'].values)
y = np.array(telemetry_drivers['Y'].values)
points = np.array([x, y]).T.reshape(-1, 1, 2)
segments = np.concatenate([points[:-1], points[1:]], axis=1)
fastest_driver_array = telemetry_drivers['Fastest_driver_int'].to_numpy().astype(float)
cmap = plt.get_cmap('spring',2) #RdBu, BuPu, viridis, https://matplotlib.org/3.3.1/tutorials/colors/colormaps.html
lc_comp = LineCollection(segments, norm=plt.Normalize(1, cmap.N+1), cmap=cmap)
lc_comp.set_array(fastest_driver_array)
lc_comp.set_linewidth(5)
plt.rcParams['figure.figsize'] = [12, 6]
plt.gca().add_collection(lc_comp)
plt.axis('equal')
plt.tick_params(labelleft=False, left=False, labelbottom=False, bottom=False)
cbar = plt.colorbar(mappable=lc_comp, label='Driver', boundaries=np.arange(1,4))
cbar.set_ticks(np.arange(1.5, 3.5))
cbar.set_ticklabels([driver01,driver02])
title_color = 'silver' # '#6441a5'
plt.title("2019 Spanish Grand Prix Qualifying | Bottas vs Vettel, Track Dominance", color=title_color, fontsize = 16)
plt.show()
